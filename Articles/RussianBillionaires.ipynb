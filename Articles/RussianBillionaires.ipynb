{
 "cells": [
  {
   "cell_type": "code",
   "execution_count": null,
   "metadata": {},
   "outputs": [],
   "source": [
    "# Data\n",
    "# here for the original data to download: https://www.openicpsr.org/openicpsr/project/116312/version/V1/view\n",
    "# here from my google drive account: https://drive.google.com/drive/folders/1dELVb_yLcrmOlyaTYyE2SP9yR1wZA-9r?usp=sharing\n",
    "%matplotlib inline\n",
    "import matplotlib.pyplot as plt\n",
    "plt.rcParams[\"figure.figsize\"] = (11, 5)  #set default figure size\n",
    "import numpy as np\n",
    "from numpy import exp\n",
    "from scipy.special import factorial\n",
    "import pandas as pd\n",
    "from mpl_toolkits.mplot3d import Axes3D\n",
    "import statsmodels.api as sm\n",
    "from statsmodels.api import Poisson\n",
    "from scipy import stats\n",
    "from scipy.stats import norm\n",
    "from statsmodels.iolib.summary2 import summary_col\n",
    "# Loading from google drive(see above)\n",
    "url = 'https://drive.google.com/file/d/1LyEkr27AM0Pnilg6Bp3akKXUyP3zw5e9/view?usp=sharing'\n",
    "url='https://drive.google.com/uc?id=' + url.split('/')[-2]\n",
    "df = pd.read_stata(url)\n",
    "#df = pd.read_stata('/Users/michalurdanivia/Library/CloudStorage/GoogleDrive-mw.urdanivia@gmail.com/Mon Drive/Syllabus/Statistiques_UGA_M1Eco_S1/Autres/Donnees/116312-V1/P2016_1068_data/fp.dta')\n",
    "df.head()"
   ]
  },
  {
   "cell_type": "code",
   "execution_count": null,
   "metadata": {},
   "outputs": [],
   "source": [
    "numbil0_2008 = df[(df['year'] == 2008) & (\n",
    "    df['country'] != 'United States')].loc[:, 'numbil0']\n",
    "\n",
    "plt.subplots(figsize=(12, 8))\n",
    "plt.hist(numbil0_2008, bins=30)\n",
    "plt.xlim(left=0)\n",
    "plt.grid()\n",
    "plt.xlabel('Number of billionaires in 2008')\n",
    "plt.ylabel('Count')\n",
    "plt.show()"
   ]
  },
  {
   "cell_type": "code",
   "execution_count": null,
   "metadata": {},
   "outputs": [],
   "source": [
    "# Keep only year 2008\n",
    "df = df[df['year'] == 2008]\n",
    "\n",
    "# Add a constant\n",
    "df['const'] = 1\n",
    "\n",
    "# Variable sets\n",
    "reg1 = ['const', 'lngdppc', 'lnpop', 'gattwto08']\n",
    "reg2 = ['const', 'lngdppc', 'lnpop',\n",
    "        'gattwto08', 'lnmcap08', 'rintr', 'topint08']\n",
    "reg3 = ['const', 'lngdppc', 'lnpop', 'gattwto08', 'lnmcap08',\n",
    "        'rintr', 'topint08', 'nrrents', 'roflaw']"
   ]
  },
  {
   "cell_type": "code",
   "execution_count": null,
   "metadata": {},
   "outputs": [],
   "source": [
    "regs = [reg1, reg2, reg3]\n",
    "reg_names = ['Model 1', 'Model 2', 'Model 3']\n",
    "info_dict = {'Pseudo R-squared': lambda x: f\"{x.prsquared:.2f}\",\n",
    "             'No. observations': lambda x: f\"{int(x.nobs):d}\"}\n",
    "regressor_order = ['const',\n",
    "                   'lngdppc',\n",
    "                   'lnpop',\n",
    "                   'gattwto08',\n",
    "                   'lnmcap08',\n",
    "                   'rintr',\n",
    "                   'topint08',\n",
    "                   'nrrents',\n",
    "                   'roflaw']\n",
    "results = []\n",
    "\n",
    "for reg in regs:\n",
    "    result = sm.Poisson(df[['numbil0']], df[reg],\n",
    "                        missing='drop').fit(cov_type='HC0',\n",
    "                                            maxiter=100, disp=0)\n",
    "    results.append(result)\n",
    "\n",
    "results_table = summary_col(results=results,\n",
    "                            float_format='%0.3f',\n",
    "                            stars=True,\n",
    "                            model_names=reg_names,\n",
    "                            info_dict=info_dict,\n",
    "                            regressor_order=regressor_order)\n",
    "results_table.add_title('Table 1 - Explaining the Number of Billionaires \\\n",
    "                        in 2008')\n",
    "print(results_table)"
   ]
  }
 ],
 "metadata": {
  "kernelspec": {
   "display_name": "Python 3.8.8 ('base')",
   "language": "python",
   "name": "python3"
  },
  "language_info": {
   "codemirror_mode": {
    "name": "ipython",
    "version": 3
   },
   "file_extension": ".py",
   "mimetype": "text/x-python",
   "name": "python",
   "nbconvert_exporter": "python",
   "pygments_lexer": "ipython3",
   "version": "3.8.8"
  },
  "orig_nbformat": 4,
  "vscode": {
   "interpreter": {
    "hash": "8a894924a8054982a5c897c02f36d019274ceaf42c853aa8fb1f2ffcb169480b"
   }
  }
 },
 "nbformat": 4,
 "nbformat_minor": 2
}
